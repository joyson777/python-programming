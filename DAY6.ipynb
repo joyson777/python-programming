{
  "nbformat": 4,
  "nbformat_minor": 0,
  "metadata": {
    "colab": {
      "name": "DAY6",
      "version": "0.3.2",
      "provenance": [],
      "include_colab_link": true
    },
    "kernelspec": {
      "name": "python3",
      "display_name": "Python 3"
    }
  },
  "cells": [
    {
      "cell_type": "markdown",
      "metadata": {
        "id": "view-in-github",
        "colab_type": "text"
      },
      "source": [
        "<a href=\"https://colab.research.google.com/github/joyson777/python-programming/blob/master/DAY6.ipynb\" target=\"_parent\"><img src=\"https://colab.research.google.com/assets/colab-badge.svg\" alt=\"Open In Colab\"/></a>"
      ]
    },
    {
      "cell_type": "code",
      "metadata": {
        "id": "dRFhFUyEzzm6",
        "colab_type": "code",
        "colab": {
          "base_uri": "https://localhost:8080/",
          "height": 34
        },
        "outputId": "ef828e32-47d7-43b9-edc5-57e3ac25df2e"
      },
      "source": [
        "# Factors of a no.\n",
        "def factors(n) :\n",
        "  for i in range(1,n+1) :\n",
        "    if n % i == 0 :\n",
        "      print(i, end = \" \")\n",
        "  return \n",
        "factors(12)\n"
      ],
      "execution_count": 1,
      "outputs": [
        {
          "output_type": "stream",
          "text": [
            "1 2 3 4 6 12 "
          ],
          "name": "stdout"
        }
      ]
    },
    {
      "cell_type": "code",
      "metadata": {
        "id": "s_h4uN0b0EZW",
        "colab_type": "code",
        "colab": {
          "base_uri": "https://localhost:8080/",
          "height": 50
        },
        "outputId": "098505e4-5f74-416d-8d82-e1132cf2a237"
      },
      "source": [
        "# Prime or not\n",
        "\n",
        "def prime(n) :\n",
        "  for i in range(2,n) :\n",
        "    if n % i == 0 :\n",
        "      return 'Not a Prime number'\n",
        "    i = i + 1\n",
        "  return 'It is a Prime number'\n",
        "\n",
        "x = int(input(\"Enter a number - \"))\n",
        "prime(x)"
      ],
      "execution_count": 4,
      "outputs": [
        {
          "output_type": "stream",
          "text": [
            "Enter a number - 2\n"
          ],
          "name": "stdout"
        },
        {
          "output_type": "execute_result",
          "data": {
            "text/plain": [
              "'It is a Prime number'"
            ]
          },
          "metadata": {
            "tags": []
          },
          "execution_count": 4
        }
      ]
    },
    {
      "cell_type": "code",
      "metadata": {
        "id": "d2owzLVY0N2O",
        "colab_type": "code",
        "colab": {
          "base_uri": "https://localhost:8080/",
          "height": 34
        },
        "outputId": "be64ad2c-1364-47a2-bdee-a961907b5945"
      },
      "source": [
        "# Finding prime numbers   CHECK !\n",
        "\n",
        "def primeno(n) :\n",
        "  cnt = 0\n",
        "  for i in range(2,n) :\n",
        "    for j in range(1,i+1) :\n",
        "      if i % j == 0 :\n",
        "        cnt = cnt + 1\n",
        "    if cnt == 2 :\n",
        "      print(i, end = \" \")\n",
        "  return \n",
        "\n",
        "primeno(10)\n"
      ],
      "execution_count": 5,
      "outputs": [
        {
          "output_type": "stream",
          "text": [
            "2 "
          ],
          "name": "stdout"
        }
      ]
    },
    {
      "cell_type": "code",
      "metadata": {
        "id": "Kemr_FnF9PJ-",
        "colab_type": "code",
        "colab": {
          "base_uri": "https://localhost:8080/",
          "height": 34
        },
        "outputId": "c6c2c474-d9e7-4579-a94f-6e785a05fd8b"
      },
      "source": [
        "# Prime number count\n",
        "\n",
        "def primecnt(n) :\n",
        "  cnt = 0\n",
        "  for a in range(2,n+1) :\n",
        "    k = 0\n",
        "    for i in range(2,a//2+1) :\n",
        "      if a % i == 0 :\n",
        "        k = k + 1 \n",
        "    if k<=0 :\n",
        "      cnt = cnt + 1\n",
        "  return cnt\n",
        "\n",
        "primecnt(10)"
      ],
      "execution_count": 6,
      "outputs": [
        {
          "output_type": "execute_result",
          "data": {
            "text/plain": [
              "4"
            ]
          },
          "metadata": {
            "tags": []
          },
          "execution_count": 6
        }
      ]
    },
    {
      "cell_type": "code",
      "metadata": {
        "id": "T7GCrrwA9VKk",
        "colab_type": "code",
        "colab": {
          "base_uri": "https://localhost:8080/",
          "height": 151
        },
        "outputId": "a4a86ddb-9a12-47de-aba8-cc0ad271bbd3"
      },
      "source": [
        "# yes - individual digit factorial's sum is same as given number \n",
        "# no - otherwise\n",
        "\n",
        "def check(n) :\n",
        "  sum = 0\n",
        "  x = n\n",
        "  for i in range(n,-1,-1) :\n",
        "    r = n % 10\n",
        "    print(\"r = \", r)\n",
        "    f = 1\n",
        "    for a in range(1,r+1) :\n",
        "      f = f * a\n",
        "    print(\"Factorial = \", f)\n",
        "    sum = sum + f\n",
        "    n = n // 10\n",
        "    if n == 0 :\n",
        "      break\n",
        "  print(\"Sum = \", sum)\n",
        "  if sum == x :\n",
        "    return 'Yes'\n",
        "  else :\n",
        "    return 'No'\n",
        "\n",
        "check(145)\n",
        "# 145 = 5! + 4! + 1! = 120 + 24 + 1 = 145"
      ],
      "execution_count": 7,
      "outputs": [
        {
          "output_type": "stream",
          "text": [
            "r =  5\n",
            "Factorial =  120\n",
            "r =  4\n",
            "Factorial =  24\n",
            "r =  1\n",
            "Factorial =  1\n",
            "Sum =  145\n"
          ],
          "name": "stdout"
        },
        {
          "output_type": "execute_result",
          "data": {
            "text/plain": [
              "'Yes'"
            ]
          },
          "metadata": {
            "tags": []
          },
          "execution_count": 7
        }
      ]
    },
    {
      "cell_type": "code",
      "metadata": {
        "id": "NTdvXpyS9YNU",
        "colab_type": "code",
        "colab": {}
      },
      "source": [
        "# 145 - different method\n",
        "\n",
        "def fact(n) :\n",
        "  fact = 1\n",
        "  for i in range(2,n+1) :\n",
        "    fact *= i\n",
        "  return fact\n",
        "def factsum(n) :\n",
        "  sum = 0\n",
        "  buffer = n\n",
        "  while n != 0 :\n",
        "    r = n % 10\n",
        "    sum += fact(r)\n",
        "    n = n // 10\n",
        "  if sum == buffer :\n",
        "    return \"Yes\"\n",
        "  else :\n",
        "    return \"No\"\n",
        "  return\n",
        "\n",
        "factsum(145)\n",
        "factsum(123)\n"
      ],
      "execution_count": 0,
      "outputs": []
    },
    {
      "cell_type": "code",
      "metadata": {
        "id": "bNQDw4XT9azc",
        "colab_type": "code",
        "colab": {}
      },
      "source": [
        "# count of palindromes in given series of numbers\n",
        "\n",
        "def count(a,b) :\n",
        "  cnt = 0\n",
        "  for i in range(a,b+1) :\n",
        "    x = i\n",
        "    rev = 0\n",
        "    while i!=0 :\n",
        "      r = i % 10\n",
        "      rev = rev * 10 + r\n",
        "      i = i // 10\n",
        "    if rev == x :\n",
        "      cnt = cnt + 1\n",
        "      print(x, end = \" \")\n",
        "  return cnt\n",
        "\n",
        "C=count(1,10)\n",
        "print(\"Count = \",C)\n",
        "C=count(11,100)\n",
        "print(\"Count = \",C)"
      ],
      "execution_count": 0,
      "outputs": []
    },
    {
      "cell_type": "code",
      "metadata": {
        "id": "YDrfsvz09drk",
        "colab_type": "code",
        "colab": {}
      },
      "source": [
        "# Perfect numbers in given range\n",
        "# Perfect number : Sum of its factors = Original number\n",
        "# ex : 6 - 2, 3 --> 2 + 3 = 6\n",
        "\n",
        "#  CHECK !!\n",
        "\n",
        "def perfect(a,b) :\n",
        "  for i in range(a,b+1) :\n",
        "    sum = 0\n",
        "    fact = 0\n",
        "    j = 1\n",
        "    while(j<=i) :\n",
        "      if i % j == 0 :\n",
        "        fact = j\n",
        "      j = j + 1\n",
        "      sum +=fact\n",
        "    if sum == i :\n",
        "      print(i, end = \" \")\n",
        "  return\n",
        "\n",
        "perfect(1,10)\n"
      ],
      "execution_count": 0,
      "outputs": []
    },
    {
      "cell_type": "code",
      "metadata": {
        "id": "TxRPll3U9iXE",
        "colab_type": "code",
        "colab": {}
      },
      "source": [
        "#  CHECK!\n",
        "\n",
        "def factorslist(n) :\n",
        "  x = 1\n",
        "  sum = 0\n",
        "  while(x<=n):\n",
        "    if n%x==0 :\n",
        "      sum = sum + x\n",
        "  return sum\n",
        "\n",
        "def isPerfect(n) :\n",
        "  if factorslist(n) == n :\n",
        "    return True\n",
        "  return False\n",
        "\n",
        "def generatePerfect(a,b) :\n",
        "  for x in range(a,b+1) :\n",
        "    if isPerfect(x) :\n",
        "      print(x, end = \" \")\n",
        "  print()\n",
        "  return\n",
        "\n",
        "generatePerfect(1,10)\n",
        "generatePerfect(1,10000)"
      ],
      "execution_count": 0,
      "outputs": []
    },
    {
      "cell_type": "code",
      "metadata": {
        "id": "JBnCJJkK9u1E",
        "colab_type": "code",
        "colab": {
          "base_uri": "https://localhost:8080/",
          "height": 336
        },
        "outputId": "2eb773ad-b517-4a47-9e35-cfa2d407435c"
      },
      "source": [
        "s1 = 'Python'\n",
        "print(s1)\n",
        "print(type(s1))\n",
        "print(s1[3])\n",
        "print(len(s1))\n",
        "print(s1[len(s1)-1])\n",
        "print(s1[-1])\n",
        "print(s1[-6])\n",
        "print(s1[:2])  # Access the first characters\n",
        "print(\" \")\n",
        "print(s1[0:2])  # Access the first characters\n",
        "print(s1[-3:])  # Access the last characters\n",
        "print(s1[2:])  # Access from this character to last\n",
        "print(s1[1:-1])  # except first and last\n",
        "print(\" \")\n",
        "# Slicing of String - ::\n",
        "print(s1[-1::-1])  # Reverse\n",
        "print(s1[::3])  # Skipping character by that much\n",
        "print(s1[::2])  # Skipping characters\n",
        "print(\" \")\n",
        "print(s1[::-2])  # Skipping characters in Reverse order\n"
      ],
      "execution_count": 10,
      "outputs": [
        {
          "output_type": "stream",
          "text": [
            "Python\n",
            "<class 'str'>\n",
            "h\n",
            "6\n",
            "n\n",
            "n\n",
            "P\n",
            "Py\n",
            " \n",
            "Py\n",
            "hon\n",
            "thon\n",
            "ytho\n",
            " \n",
            "nohtyP\n",
            "Ph\n",
            "Pto\n",
            " \n",
            "nhy\n"
          ],
          "name": "stdout"
        }
      ]
    },
    {
      "cell_type": "code",
      "metadata": {
        "id": "UhEmEre190Ml",
        "colab_type": "code",
        "colab": {
          "base_uri": "https://localhost:8080/",
          "height": 50
        },
        "outputId": "66adb94e-e07f-48de-fdd8-c3b975cc36b3"
      },
      "source": [
        "def palindrome(str) :\n",
        "  if str == str[::-1] :\n",
        "    return True\n",
        "  else :\n",
        "    return False\n",
        "\n",
        "print(palindrome(\"Python\"))\n",
        "print(palindrome(\"madam\"))"
      ],
      "execution_count": 11,
      "outputs": [
        {
          "output_type": "stream",
          "text": [
            "False\n",
            "True\n"
          ],
          "name": "stdout"
        }
      ]
    },
    {
      "cell_type": "code",
      "metadata": {
        "id": "lpqS9NBZ93yD",
        "colab_type": "code",
        "colab": {
          "base_uri": "https://localhost:8080/",
          "height": 50
        },
        "outputId": "6e037bd9-ec9d-4a85-b8cd-93d05d727ff2"
      },
      "source": [
        "# Printing upper case\n",
        "def printuppercase(s) :\n",
        "  for i in range(len(s)) :\n",
        "    if ord(s[i]) >= 65 and ord(s[i])<=90 :\n",
        "      print(s[i])\n",
        "  return\n",
        "printuppercase(\"PyThon\")\n"
      ],
      "execution_count": 12,
      "outputs": [
        {
          "output_type": "stream",
          "text": [
            "P\n",
            "T\n"
          ],
          "name": "stdout"
        }
      ]
    },
    {
      "cell_type": "code",
      "metadata": {
        "id": "HOGaLta796MM",
        "colab_type": "code",
        "colab": {
          "base_uri": "https://localhost:8080/",
          "height": 50
        },
        "outputId": "9dd36660-a016-459f-95e2-151e37fcc2a3"
      },
      "source": [
        "# print \"Same count\" if count of upper and lower case is equal\n",
        "# or print \"Programming\" if otherwise\n",
        "\n",
        "def condition(s) :\n",
        "  ucnt = 0\n",
        "  lcnt = 0\n",
        "  for i in range(len(s)) :\n",
        "    if ord(s[i]) >= 65 and ord(s[i])<=90 :\n",
        "      ucnt += 1\n",
        "    elif ord(s[i]) >= 97 and ord(s[i]) <= 122 :\n",
        "      lcnt += 1\n",
        "  if ucnt == lcnt :\n",
        "    print(\"Same count\")\n",
        "  else :\n",
        "    print(\"Programming\")\n",
        "  return \n",
        "\n",
        "condition(\"PyThOn\")\n",
        "condition(\"PythoN\")"
      ],
      "execution_count": 13,
      "outputs": [
        {
          "output_type": "stream",
          "text": [
            "Same count\n",
            "Programming\n"
          ],
          "name": "stdout"
        }
      ]
    },
    {
      "cell_type": "code",
      "metadata": {
        "id": "AO4VHrl699ut",
        "colab_type": "code",
        "colab": {
          "base_uri": "https://localhost:8080/",
          "height": 67
        },
        "outputId": "1a28897b-d55b-4385-d1ae-4585e68899a7"
      },
      "source": [
        "# Extract digits from given string\n",
        "\n",
        "def extract(s) :\n",
        "  for i in range(len(s)) :\n",
        "    if ord(s[i]) >= 48 and ord(s[i])<= 57 :\n",
        "      print(s[i])\n",
        "  return\n",
        "\n",
        "extract(\"Applica8ion89\")\n"
      ],
      "execution_count": 14,
      "outputs": [
        {
          "output_type": "stream",
          "text": [
            "8\n",
            "8\n",
            "9\n"
          ],
          "name": "stdout"
        }
      ]
    },
    {
      "cell_type": "code",
      "metadata": {
        "id": "aI_LSh37-A1F",
        "colab_type": "code",
        "colab": {
          "base_uri": "https://localhost:8080/",
          "height": 330
        },
        "outputId": "6a4c0dcd-dc95-46eb-b45a-12d200559110"
      },
      "source": [
        "# Sum  of extraction of digits \n",
        "def extract(s) :\n",
        "  sum = 0\n",
        "  for i in range(len(s)) :\n",
        "    if ord(s[i]) >= 48 and ord(s[i])<= 57 :\n",
        "      print(s[i])\n",
        "      sum = sum + s[i]\n",
        "  print(\"Sum = \", sum)\n",
        "  return \n",
        "\n",
        "extract(\"Applica8ion89\")\n"
      ],
      "execution_count": 15,
      "outputs": [
        {
          "output_type": "stream",
          "text": [
            "8\n"
          ],
          "name": "stdout"
        },
        {
          "output_type": "error",
          "ename": "TypeError",
          "evalue": "ignored",
          "traceback": [
            "\u001b[0;31m---------------------------------------------------------------------------\u001b[0m",
            "\u001b[0;31mTypeError\u001b[0m                                 Traceback (most recent call last)",
            "\u001b[0;32m<ipython-input-15-c70b4c3bcb0a>\u001b[0m in \u001b[0;36m<module>\u001b[0;34m()\u001b[0m\n\u001b[1;32m      8\u001b[0m   \u001b[0;32mreturn\u001b[0m\u001b[0;34m\u001b[0m\u001b[0;34m\u001b[0m\u001b[0m\n\u001b[1;32m      9\u001b[0m \u001b[0;34m\u001b[0m\u001b[0m\n\u001b[0;32m---> 10\u001b[0;31m \u001b[0mextract\u001b[0m\u001b[0;34m(\u001b[0m\u001b[0;34m\"Applica8ion89\"\u001b[0m\u001b[0;34m)\u001b[0m\u001b[0;34m\u001b[0m\u001b[0;34m\u001b[0m\u001b[0m\n\u001b[0m",
            "\u001b[0;32m<ipython-input-15-c70b4c3bcb0a>\u001b[0m in \u001b[0;36mextract\u001b[0;34m(s)\u001b[0m\n\u001b[1;32m      4\u001b[0m     \u001b[0;32mif\u001b[0m \u001b[0mord\u001b[0m\u001b[0;34m(\u001b[0m\u001b[0ms\u001b[0m\u001b[0;34m[\u001b[0m\u001b[0mi\u001b[0m\u001b[0;34m]\u001b[0m\u001b[0;34m)\u001b[0m \u001b[0;34m>=\u001b[0m \u001b[0;36m48\u001b[0m \u001b[0;32mand\u001b[0m \u001b[0mord\u001b[0m\u001b[0;34m(\u001b[0m\u001b[0ms\u001b[0m\u001b[0;34m[\u001b[0m\u001b[0mi\u001b[0m\u001b[0;34m]\u001b[0m\u001b[0;34m)\u001b[0m\u001b[0;34m<=\u001b[0m \u001b[0;36m57\u001b[0m \u001b[0;34m:\u001b[0m\u001b[0;34m\u001b[0m\u001b[0;34m\u001b[0m\u001b[0m\n\u001b[1;32m      5\u001b[0m       \u001b[0mprint\u001b[0m\u001b[0;34m(\u001b[0m\u001b[0ms\u001b[0m\u001b[0;34m[\u001b[0m\u001b[0mi\u001b[0m\u001b[0;34m]\u001b[0m\u001b[0;34m)\u001b[0m\u001b[0;34m\u001b[0m\u001b[0;34m\u001b[0m\u001b[0m\n\u001b[0;32m----> 6\u001b[0;31m       \u001b[0msum\u001b[0m \u001b[0;34m=\u001b[0m \u001b[0msum\u001b[0m \u001b[0;34m+\u001b[0m \u001b[0ms\u001b[0m\u001b[0;34m[\u001b[0m\u001b[0mi\u001b[0m\u001b[0;34m]\u001b[0m\u001b[0;34m\u001b[0m\u001b[0;34m\u001b[0m\u001b[0m\n\u001b[0m\u001b[1;32m      7\u001b[0m   \u001b[0mprint\u001b[0m\u001b[0;34m(\u001b[0m\u001b[0;34m\"Sum = \"\u001b[0m\u001b[0;34m,\u001b[0m \u001b[0msum\u001b[0m\u001b[0;34m)\u001b[0m\u001b[0;34m\u001b[0m\u001b[0;34m\u001b[0m\u001b[0m\n\u001b[1;32m      8\u001b[0m   \u001b[0;32mreturn\u001b[0m\u001b[0;34m\u001b[0m\u001b[0;34m\u001b[0m\u001b[0m\n",
            "\u001b[0;31mTypeError\u001b[0m: unsupported operand type(s) for +: 'int' and 'str'"
          ]
        }
      ]
    }
  ]
}